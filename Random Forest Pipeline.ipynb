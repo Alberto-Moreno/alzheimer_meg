{
 "cells": [
  {
   "cell_type": "markdown",
   "metadata": {},
   "source": [
    "This notebook load the the Mean MEG Data and uses a Random Forest to classify between MCI and Control patients. It is a simple bechmark to measure the performance of other strategies. I have selected the random forest as the benchmarking model because it's simple to set up and doesn't have many hyperparameters to optimize (mtry being the most important one).\n",
    "\n",
    "Also, it will be useful for getting comfortable with the MLR package's syntax, since I've since now always used caret."
   ]
  },
  {
   "cell_type": "code",
   "execution_count": 1,
   "metadata": {},
   "outputs": [
    {
     "name": "stderr",
     "output_type": "stream",
     "text": [
      "── Attaching packages ─────────────────────────────────────── tidyverse 1.2.1 ──\n",
      "✔ ggplot2 2.2.1     ✔ purrr   0.2.5\n",
      "✔ tibble  1.4.2     ✔ dplyr   0.7.6\n",
      "✔ tidyr   0.8.1     ✔ stringr 1.2.0\n",
      "✔ readr   1.1.1     ✔ forcats 0.3.0\n",
      "── Conflicts ────────────────────────────────────────── tidyverse_conflicts() ──\n",
      "✖ dplyr::filter() masks stats::filter()\n",
      "✖ dplyr::lag()    masks stats::lag()\n",
      "Loading required package: ParamHelpers\n",
      "Warning message:\n",
      "“replacing previous import ‘BBmisc::isFALSE’ by ‘backports::isFALSE’ when loading ‘ParamHelpers’”"
     ]
    }
   ],
   "source": [
    "library(tidyverse)\n",
    "library(mlr)"
   ]
  },
  {
   "cell_type": "code",
   "execution_count": 46,
   "metadata": {},
   "outputs": [
    {
     "data": {
      "text/html": [
       "'/home/rstudio'"
      ],
      "text/latex": [
       "'/home/rstudio'"
      ],
      "text/markdown": [
       "'/home/rstudio'"
      ],
      "text/plain": [
       "[1] \"/home/rstudio\""
      ]
     },
     "metadata": {},
     "output_type": "display_data"
    }
   ],
   "source": []
  },
  {
   "cell_type": "code",
   "execution_count": 17,
   "metadata": {},
   "outputs": [],
   "source": [
    "mean_data <- readRDS(\"/home/rstudio/data/mean.rds\")\n",
    "mean_data$class <- factor(mean_data$class)"
   ]
  },
  {
   "cell_type": "code",
   "execution_count": 18,
   "metadata": {},
   "outputs": [],
   "source": [
    "mean_pca <- as.data.frame(predict(prcomp(select(mean_data, -id, -class), scale = TRUE)))"
   ]
  },
  {
   "cell_type": "code",
   "execution_count": 20,
   "metadata": {},
   "outputs": [],
   "source": [
    "mean_pca$class <- mean_data$class"
   ]
  },
  {
   "cell_type": "code",
   "execution_count": 21,
   "metadata": {},
   "outputs": [
    {
     "name": "stderr",
     "output_type": "stream",
     "text": [
      "Warning message in makeTask(type = type, data = data, weights = weights, blocking = blocking, :\n",
      "“Provided data is not a pure data.frame but from class tbl_df, hence it will be converted.”"
     ]
    }
   ],
   "source": [
    "task = makeClassifTask(id = \"rf_mean_meg_pca\", data = mean_data, target = \"class\")"
   ]
  },
  {
   "cell_type": "markdown",
   "metadata": {},
   "source": [
    "Here, I create a randomForest learner and set the resampling strategy as a Leave-One-Out Crossvalidation. "
   ]
  },
  {
   "cell_type": "code",
   "execution_count": 22,
   "metadata": {},
   "outputs": [],
   "source": [
    "lrn = makeLearner(\"classif.randomForest\")\n",
    "rdesc = makeResampleDesc(method = \"LOO\")"
   ]
  },
  {
   "cell_type": "markdown",
   "metadata": {},
   "source": [
    "Train the model"
   ]
  },
  {
   "cell_type": "code",
   "execution_count": 23,
   "metadata": {},
   "outputs": [
    {
     "name": "stderr",
     "output_type": "stream",
     "text": [
      "Resampling: LOO\n",
      "Measures:             mmce      \n",
      "[Resample] iter 1:    0.0000000 \n",
      "[Resample] iter 2:    1.0000000 \n",
      "[Resample] iter 3:    1.0000000 \n",
      "[Resample] iter 4:    0.0000000 \n",
      "[Resample] iter 5:    1.0000000 \n",
      "[Resample] iter 6:    1.0000000 \n",
      "[Resample] iter 7:    0.0000000 \n",
      "[Resample] iter 8:    0.0000000 \n",
      "[Resample] iter 9:    0.0000000 \n",
      "[Resample] iter 10:   0.0000000 \n",
      "[Resample] iter 11:   0.0000000 \n",
      "[Resample] iter 12:   1.0000000 \n",
      "[Resample] iter 13:   0.0000000 \n",
      "[Resample] iter 14:   0.0000000 \n",
      "[Resample] iter 15:   0.0000000 \n",
      "[Resample] iter 16:   0.0000000 \n",
      "[Resample] iter 17:   1.0000000 \n",
      "[Resample] iter 18:   0.0000000 \n",
      "[Resample] iter 19:   0.0000000 \n",
      "[Resample] iter 20:   0.0000000 \n",
      "[Resample] iter 21:   0.0000000 \n",
      "[Resample] iter 22:   1.0000000 \n",
      "[Resample] iter 23:   0.0000000 \n",
      "[Resample] iter 24:   0.0000000 \n",
      "[Resample] iter 25:   1.0000000 \n",
      "[Resample] iter 26:   0.0000000 \n",
      "[Resample] iter 27:   0.0000000 \n",
      "[Resample] iter 28:   0.0000000 \n",
      "[Resample] iter 29:   1.0000000 \n",
      "[Resample] iter 30:   0.0000000 \n",
      "[Resample] iter 31:   0.0000000 \n",
      "[Resample] iter 32:   1.0000000 \n",
      "[Resample] iter 33:   1.0000000 \n",
      "[Resample] iter 34:   1.0000000 \n",
      "[Resample] iter 35:   1.0000000 \n",
      "[Resample] iter 36:   0.0000000 \n",
      "[Resample] iter 37:   1.0000000 \n",
      "[Resample] iter 38:   0.0000000 \n",
      "[Resample] iter 39:   0.0000000 \n",
      "[Resample] iter 40:   0.0000000 \n",
      "[Resample] iter 41:   0.0000000 \n",
      "[Resample] iter 42:   0.0000000 \n",
      "[Resample] iter 43:   0.0000000 \n",
      "[Resample] iter 44:   0.0000000 \n",
      "[Resample] iter 45:   0.0000000 \n",
      "[Resample] iter 46:   0.0000000 \n",
      "[Resample] iter 47:   0.0000000 \n",
      "[Resample] iter 48:   0.0000000 \n",
      "[Resample] iter 49:   1.0000000 \n",
      "[Resample] iter 50:   0.0000000 \n",
      "[Resample] iter 51:   1.0000000 \n",
      "[Resample] iter 52:   1.0000000 \n",
      "[Resample] iter 53:   1.0000000 \n",
      "[Resample] iter 54:   0.0000000 \n",
      "[Resample] iter 55:   0.0000000 \n",
      "[Resample] iter 56:   1.0000000 \n",
      "[Resample] iter 57:   0.0000000 \n",
      "[Resample] iter 58:   0.0000000 \n",
      "[Resample] iter 59:   1.0000000 \n",
      "[Resample] iter 60:   0.0000000 \n",
      "[Resample] iter 61:   0.0000000 \n",
      "[Resample] iter 62:   0.0000000 \n",
      "[Resample] iter 63:   0.0000000 \n",
      "[Resample] iter 64:   0.0000000 \n",
      "[Resample] iter 65:   0.0000000 \n",
      "[Resample] iter 66:   0.0000000 \n",
      "[Resample] iter 67:   0.0000000 \n",
      "[Resample] iter 68:   0.0000000 \n",
      "[Resample] iter 69:   0.0000000 \n",
      "[Resample] iter 70:   1.0000000 \n",
      "[Resample] iter 71:   1.0000000 \n",
      "[Resample] iter 72:   0.0000000 \n",
      "[Resample] iter 73:   0.0000000 \n",
      "[Resample] iter 74:   0.0000000 \n",
      "[Resample] iter 75:   0.0000000 \n",
      "[Resample] iter 76:   1.0000000 \n",
      "[Resample] iter 77:   0.0000000 \n",
      "[Resample] iter 78:   0.0000000 \n",
      "[Resample] iter 79:   0.0000000 \n",
      "[Resample] iter 80:   0.0000000 \n",
      "[Resample] iter 81:   1.0000000 \n",
      "[Resample] iter 82:   1.0000000 \n",
      "[Resample] iter 83:   0.0000000 \n",
      "[Resample] iter 84:   1.0000000 \n",
      "[Resample] iter 85:   0.0000000 \n",
      "[Resample] iter 86:   0.0000000 \n",
      "[Resample] iter 87:   1.0000000 \n",
      "[Resample] iter 88:   1.0000000 \n",
      "[Resample] iter 89:   1.0000000 \n",
      "[Resample] iter 90:   0.0000000 \n",
      "[Resample] iter 91:   1.0000000 \n",
      "[Resample] iter 92:   0.0000000 \n",
      "[Resample] iter 93:   0.0000000 \n",
      "[Resample] iter 94:   1.0000000 \n",
      "[Resample] iter 95:   0.0000000 \n",
      "[Resample] iter 96:   1.0000000 \n",
      "[Resample] iter 97:   0.0000000 \n",
      "[Resample] iter 98:   0.0000000 \n",
      "[Resample] iter 99:   1.0000000 \n",
      "[Resample] iter 100:  0.0000000 \n",
      "[Resample] iter 101:  1.0000000 \n",
      "[Resample] iter 102:  1.0000000 \n",
      "[Resample] iter 103:  1.0000000 \n",
      "[Resample] iter 104:  0.0000000 \n",
      "[Resample] iter 105:  0.0000000 \n",
      "[Resample] iter 106:  0.0000000 \n",
      "[Resample] iter 107:  0.0000000 \n",
      "[Resample] iter 108:  1.0000000 \n",
      "[Resample] iter 109:  0.0000000 \n",
      "[Resample] iter 110:  1.0000000 \n",
      "[Resample] iter 111:  0.0000000 \n",
      "[Resample] iter 112:  0.0000000 \n",
      "[Resample] iter 113:  0.0000000 \n",
      "[Resample] iter 114:  0.0000000 \n",
      "[Resample] iter 115:  1.0000000 \n",
      "[Resample] iter 116:  1.0000000 \n",
      "[Resample] iter 117:  0.0000000 \n",
      "[Resample] iter 118:  1.0000000 \n",
      "[Resample] iter 119:  0.0000000 \n",
      "[Resample] iter 120:  1.0000000 \n",
      "[Resample] iter 121:  0.0000000 \n",
      "[Resample] iter 122:  0.0000000 \n",
      "[Resample] iter 123:  1.0000000 \n",
      "[Resample] iter 124:  1.0000000 \n",
      "[Resample] iter 125:  0.0000000 \n",
      "[Resample] iter 126:  1.0000000 \n",
      "[Resample] iter 127:  0.0000000 \n",
      "[Resample] iter 128:  0.0000000 \n",
      "[Resample] iter 129:  0.0000000 \n",
      "[Resample] iter 130:  0.0000000 \n",
      "[Resample] iter 131:  1.0000000 \n",
      "[Resample] iter 132:  1.0000000 \n",
      "\n",
      "\n",
      "Aggregated Result: mmce.test.mean=0.3560606\n",
      "\n",
      "\n"
     ]
    }
   ],
   "source": [
    "r = resample(learner = lrn, task = task, resampling = rdesc)"
   ]
  },
  {
   "cell_type": "markdown",
   "metadata": {},
   "source": [
    "The mean MMCE is 0.3560606. Now, we will look at the Confunsion Matrix (class 2 is MCI):"
   ]
  },
  {
   "cell_type": "code",
   "execution_count": 45,
   "metadata": {},
   "outputs": [
    {
     "name": "stdout",
     "output_type": "stream",
     "text": [
      "[1] \"Confusion matrix:\"\n",
      "        predicted\n",
      "true      1  2 -err.-\n",
      "  1      25 29     29\n",
      "  2      18 60     18\n",
      "  -err.- 18 29     47\n"
     ]
    },
    {
     "ename": "ERROR",
     "evalue": "Error in accuracy(confusion_matrix(result)): could not find function \"accuracy\"\n",
     "output_type": "error",
     "traceback": [
      "Error in accuracy(confusion_matrix(result)): could not find function \"accuracy\"\nTraceback:\n",
      "1. print(accuracy(confusion_matrix(result)))"
     ]
    }
   ],
   "source": [
    "print(\"Confusion matrix:\")\n",
    "confusion_matrix <- calculateConfusionMatrix(r$pred)\n",
    "print(confusion_matrix)\n",
    "print(\"Accuracy:\")\n",
    "sum(r$pred$data$truth == r$pred$data$response)/length(r$pred$data$truth)\n",
    "t(confusion_matrix$result)"
   ]
  },
  {
   "cell_type": "code",
   "execution_count": 44,
   "metadata": {},
   "outputs": [
    {
     "data": {
      "text/html": [
       "0.718562874251497"
      ],
      "text/latex": [
       "0.718562874251497"
      ],
      "text/markdown": [
       "0.718562874251497"
      ],
      "text/plain": [
       "[1] 0.7185629"
      ]
     },
     "metadata": {},
     "output_type": "display_data"
    },
    {
     "data": {
      "text/html": [
       "0.674157303370786"
      ],
      "text/latex": [
       "0.674157303370786"
      ],
      "text/markdown": [
       "0.674157303370786"
      ],
      "text/plain": [
       "[1] 0.6741573"
      ]
     },
     "metadata": {},
     "output_type": "display_data"
    },
    {
     "data": {
      "text/html": [
       "0.769230769230769"
      ],
      "text/latex": [
       "0.769230769230769"
      ],
      "text/markdown": [
       "0.769230769230769"
      ],
      "text/plain": [
       "[1] 0.7692308"
      ]
     },
     "metadata": {},
     "output_type": "display_data"
    }
   ],
   "source": [
    "TP <- confusion_matrix$result[2,2]\n",
    "FP <- confusion_matrix$result[1,2]\n",
    "TN <- confusion_matrix$result[1,1]\n",
    "FN <- confusion_matrix$result[2,1]\n",
    "\n",
    "precision = TP / (TP + FP)\n",
    "recall = TP / (TP + FN)\n",
    "f1 <- 2 * precision * recall / (precision + recall)\n",
    "f1\n",
    "precision\n",
    "recall"
   ]
  }
 ],
 "metadata": {
  "kernelspec": {
   "display_name": "R",
   "language": "R",
   "name": "ir"
  },
  "language_info": {
   "codemirror_mode": "r",
   "file_extension": ".r",
   "mimetype": "text/x-r-source",
   "name": "R",
   "pygments_lexer": "r",
   "version": "3.4.2"
  }
 },
 "nbformat": 4,
 "nbformat_minor": 2
}
