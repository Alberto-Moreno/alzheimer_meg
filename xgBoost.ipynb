{
 "cells": [
  {
   "cell_type": "markdown",
   "metadata": {},
   "source": [
    "This notebook load the the Mean MEG Data and uses a Random Forest to classify between MCI and Control patients. It is a simple bechmark to measure the performance of other strategies. I have selected the random forest as the benchmarking model because it's simple to set up and doesn't have many hyperparameters to optimize (mtry being the most important one).\n",
    "\n",
    "Also, it will be useful for getting comfortable with the MLR package's syntax, since I've since now always used caret."
   ]
  },
  {
   "cell_type": "code",
   "execution_count": 1,
   "metadata": {},
   "outputs": [
    {
     "name": "stderr",
     "output_type": "stream",
     "text": [
      "── Attaching packages ─────────────────────────────────────── tidyverse 1.2.1 ──\n",
      "✔ ggplot2 2.2.1     ✔ purrr   0.2.5\n",
      "✔ tibble  1.4.2     ✔ dplyr   0.7.6\n",
      "✔ tidyr   0.8.1     ✔ stringr 1.2.0\n",
      "✔ readr   1.1.1     ✔ forcats 0.3.0\n",
      "── Conflicts ────────────────────────────────────────── tidyverse_conflicts() ──\n",
      "✖ dplyr::filter() masks stats::filter()\n",
      "✖ dplyr::lag()    masks stats::lag()\n",
      "Loading required package: ParamHelpers\n",
      "Warning message:\n",
      "“replacing previous import ‘BBmisc::isFALSE’ by ‘backports::isFALSE’ when loading ‘ParamHelpers’”here() starts at /home/rstudio/alzheimer_meg\n"
     ]
    },
    {
     "data": {
      "text/html": [
       "'/home/rstudio/alzheimer_meg'"
      ],
      "text/latex": [
       "'/home/rstudio/alzheimer\\_meg'"
      ],
      "text/markdown": [
       "'/home/rstudio/alzheimer_meg'"
      ],
      "text/plain": [
       "[1] \"/home/rstudio/alzheimer_meg\""
      ]
     },
     "metadata": {},
     "output_type": "display_data"
    }
   ],
   "source": [
    "library(tidyverse)\n",
    "library(mlr)\n",
    "library(here)\n",
    "here()"
   ]
  },
  {
   "cell_type": "code",
   "execution_count": null,
   "metadata": {},
   "outputs": [],
   "source": [
    "here()"
   ]
  },
  {
   "cell_type": "code",
   "execution_count": null,
   "metadata": {},
   "outputs": [],
   "source": [
    "mean_data <- readRDS(\"/home/rstudio/data/mean.rds\")\n",
    "mean_data$class <- factor(mean_data$class)"
   ]
  },
  {
   "cell_type": "code",
   "execution_count": null,
   "metadata": {},
   "outputs": [],
   "source": [
    "task = makeClassifTask(id = \"rf_mean_meg_pca\", data = mean_data, target = \"class\")"
   ]
  },
  {
   "cell_type": "markdown",
   "metadata": {},
   "source": [
    "Here, I create a randomForest learner and set the resampling strategy as a Leave-One-Out Crossvalidation. "
   ]
  },
  {
   "cell_type": "code",
   "execution_count": null,
   "metadata": {},
   "outputs": [],
   "source": [
    "lrn = makeLearner(\"classif.xgboost\")\n",
    "rdesc = makeResampleDesc(method = \"LOO\")"
   ]
  },
  {
   "cell_type": "markdown",
   "metadata": {},
   "source": [
    "Train the model"
   ]
  },
  {
   "cell_type": "code",
   "execution_count": null,
   "metadata": {},
   "outputs": [],
   "source": [
    "r = resample(learner = lrn, task = task, resampling = rdesc)"
   ]
  },
  {
   "cell_type": "markdown",
   "metadata": {},
   "source": [
    "The mean MMCE is 0.3560606. Now, we will look at the Confunsion Matrix (class 2 is MCI):"
   ]
  },
  {
   "cell_type": "code",
   "execution_count": null,
   "metadata": {},
   "outputs": [],
   "source": [
    "print(\"Confusion matrix:\")\n",
    "confusion_matrix <- calculateConfusionMatrix(r$pred)\n",
    "print(confusion_matrix)\n",
    "print(\"Accuracy:\")\n",
    "sum(r$pred$data$truth == r$pred$data$response)/length(r$pred$data$truth)\n",
    "t(confusion_matrix$result)"
   ]
  },
  {
   "cell_type": "code",
   "execution_count": null,
   "metadata": {},
   "outputs": [],
   "source": [
    "TP <- confusion_matrix$result[2,2]\n",
    "FP <- confusion_matrix$result[1,2]\n",
    "TN <- confusion_matrix$result[1,1]\n",
    "FN <- confusion_matrix$result[2,1]\n",
    "\n",
    "precision = TP / (TP + FP)\n",
    "recall = TP / (TP + FN)\n",
    "f1 <- 2 * precision * recall / (precision + recall)\n",
    "f1\n",
    "precision\n",
    "recall"
   ]
  }
 ],
 "metadata": {
  "kernelspec": {
   "display_name": "R",
   "language": "R",
   "name": "ir"
  },
  "language_info": {
   "codemirror_mode": "r",
   "file_extension": ".r",
   "mimetype": "text/x-r-source",
   "name": "R",
   "pygments_lexer": "r",
   "version": "3.4.2"
  }
 },
 "nbformat": 4,
 "nbformat_minor": 2
}
